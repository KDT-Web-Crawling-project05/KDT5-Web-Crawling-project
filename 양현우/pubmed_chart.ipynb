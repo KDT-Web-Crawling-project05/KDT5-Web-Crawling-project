{
 "cells": [
  {
   "cell_type": "code",
   "execution_count": 42,
   "id": "2098142e-e817-4a6b-a56c-a313b741349e",
   "metadata": {},
   "outputs": [
    {
     "ename": "ModuleNotFoundError",
     "evalue": "No module named 'wordcloud'",
     "output_type": "error",
     "traceback": [
      "\u001b[1;31m---------------------------------------------------------------------------\u001b[0m",
      "\u001b[1;31mModuleNotFoundError\u001b[0m                       Traceback (most recent call last)",
      "Cell \u001b[1;32mIn[42], line 7\u001b[0m\n\u001b[0;32m      5\u001b[0m \u001b[38;5;28;01mimport\u001b[39;00m \u001b[38;5;21;01mnumpy\u001b[39;00m \u001b[38;5;28;01mas\u001b[39;00m \u001b[38;5;21;01mnp\u001b[39;00m\n\u001b[0;32m      6\u001b[0m \u001b[38;5;28;01mfrom\u001b[39;00m \u001b[38;5;21;01mPIL\u001b[39;00m \u001b[38;5;28;01mimport\u001b[39;00m Image\n\u001b[1;32m----> 7\u001b[0m \u001b[38;5;28;01mimport\u001b[39;00m \u001b[38;5;21;01mwordcloud\u001b[39;00m\n",
      "\u001b[1;31mModuleNotFoundError\u001b[0m: No module named 'wordcloud'"
     ]
    }
   ],
   "source": [
    "import pandas as pd\n",
    "import matplotlib.pyplot as plt\n",
    "import csv\n",
    "import koreanize_matplotlib\n",
    "import numpy as np\n",
    "from PIL import Image"
   ]
  },
  {
   "cell_type": "code",
   "execution_count": 11,
   "id": "7e1bc2f7-0c65-41ed-bcc2-128b9b01b98b",
   "metadata": {},
   "outputs": [
    {
     "data": {
      "text/html": [
       "<div>\n",
       "<style scoped>\n",
       "    .dataframe tbody tr th:only-of-type {\n",
       "        vertical-align: middle;\n",
       "    }\n",
       "\n",
       "    .dataframe tbody tr th {\n",
       "        vertical-align: top;\n",
       "    }\n",
       "\n",
       "    .dataframe thead th {\n",
       "        text-align: right;\n",
       "    }\n",
       "</style>\n",
       "<table border=\"1\" class=\"dataframe\">\n",
       "  <thead>\n",
       "    <tr style=\"text-align: right;\">\n",
       "      <th></th>\n",
       "      <th>Count</th>\n",
       "    </tr>\n",
       "    <tr>\n",
       "      <th>Year</th>\n",
       "      <th></th>\n",
       "    </tr>\n",
       "  </thead>\n",
       "  <tbody>\n",
       "    <tr>\n",
       "      <th>2020</th>\n",
       "      <td>5332</td>\n",
       "    </tr>\n",
       "    <tr>\n",
       "      <th>2021</th>\n",
       "      <td>6489</td>\n",
       "    </tr>\n",
       "    <tr>\n",
       "      <th>2022</th>\n",
       "      <td>7857</td>\n",
       "    </tr>\n",
       "    <tr>\n",
       "      <th>2023</th>\n",
       "      <td>6995</td>\n",
       "    </tr>\n",
       "    <tr>\n",
       "      <th>2024</th>\n",
       "      <td>933</td>\n",
       "    </tr>\n",
       "  </tbody>\n",
       "</table>\n",
       "</div>"
      ],
      "text/plain": [
       "      Count\n",
       "Year       \n",
       "2020   5332\n",
       "2021   6489\n",
       "2022   7857\n",
       "2023   6995\n",
       "2024    933"
      ]
     },
     "execution_count": 11,
     "metadata": {},
     "output_type": "execute_result"
    }
   ],
   "source": [
    "data = pd.read_csv('./DATA/PubMed_Timeline_Results_by_Year.csv', header=1, index_col=0)\n",
    "data.sort_index(inplace=True)\n",
    "data.tail()"
   ]
  },
  {
   "cell_type": "code",
   "execution_count": 19,
   "id": "6cf8579f-f5c7-4a76-864e-7f4f5d3e4ddf",
   "metadata": {},
   "outputs": [
    {
     "data": {
      "image/png": "[encoded data removed]",
      "text/plain": [
       "<Figure size 700x400 with 1 Axes>"
      ]
     },
     "metadata": {},
     "output_type": "display_data"
    }
   ],
   "source": [
    "plt.figure(figsize=(7,4))\n",
    "plt.bar(data.index, data['Count'])\n",
    "plt.title('Pubmed big data 관련 논문 수',fontdict={'fontsize':'xx-large'})\n",
    "plt.ylabel('논문 건수', fontdict={'fontsize':'x-large'})\n",
    "plt.yticks()\n",
    "plt.xlabel('연도', fontdict={'fontsize':'x-large'})\n",
    "plt.grid(axis='y', linestyle=':', lw =0.5)\n",
    "plt.show()"
   ]
  },
  {
   "cell_type": "code",
   "execution_count": 26,
   "id": "faa260f9-7a23-4e44-83af-63c5e0351bae",
   "metadata": {},
   "outputs": [
    {
     "data": {
      "text/html": [
       "<div>\n",
       "<style scoped>\n",
       "    .dataframe tbody tr th:only-of-type {\n",
       "        vertical-align: middle;\n",
       "    }\n",
       "\n",
       "    .dataframe tbody tr th {\n",
       "        vertical-align: top;\n",
       "    }\n",
       "\n",
       "    .dataframe thead th {\n",
       "        text-align: right;\n",
       "    }\n",
       "</style>\n",
       "<table border=\"1\" class=\"dataframe\">\n",
       "  <thead>\n",
       "    <tr style=\"text-align: right;\">\n",
       "      <th></th>\n",
       "      <th>논문 제목</th>\n",
       "      <th>사이트 링크</th>\n",
       "      <th>요약</th>\n",
       "    </tr>\n",
       "  </thead>\n",
       "  <tbody>\n",
       "    <tr>\n",
       "      <th>1</th>\n",
       "      <td>Big Data in Business: A Bibliometric Analysis ...</td>\n",
       "      <td>https://pubmed.ncbi.nlm.nih.gov/33347371/</td>\n",
       "      <td>\\n\\n      \\n      This special issue was open ...</td>\n",
       "    </tr>\n",
       "    <tr>\n",
       "      <th>2</th>\n",
       "      <td>Big data analysis techniques to address polyph...</td>\n",
       "      <td>https://pubmed.ncbi.nlm.nih.gov/32883227/</td>\n",
       "      <td>\\n\\n\\n          Background:\\n        \\n      \\...</td>\n",
       "    </tr>\n",
       "    <tr>\n",
       "      <th>3</th>\n",
       "      <td>Agricultural big data and methods and models f...</td>\n",
       "      <td>https://pubmed.ncbi.nlm.nih.gov/35789661/</td>\n",
       "      <td>\\n\\n\\n          Background:\\n        \\n      \\...</td>\n",
       "    </tr>\n",
       "    <tr>\n",
       "      <th>4</th>\n",
       "      <td>Financial Data Analysis and Application Based ...</td>\n",
       "      <td>https://pubmed.ncbi.nlm.nih.gov/35789614/</td>\n",
       "      <td>\\n\\n      \\n      We provide a brief overview ...</td>\n",
       "    </tr>\n",
       "    <tr>\n",
       "      <th>5</th>\n",
       "      <td>Big Data Applications in Guangzhou Restaurants...</td>\n",
       "      <td>https://pubmed.ncbi.nlm.nih.gov/34582700/</td>\n",
       "      <td>\\n\\n      \\n      With the development of mode...</td>\n",
       "    </tr>\n",
       "    <tr>\n",
       "      <th>...</th>\n",
       "      <td>...</td>\n",
       "      <td>...</td>\n",
       "      <td>...</td>\n",
       "    </tr>\n",
       "    <tr>\n",
       "      <th>3996</th>\n",
       "      <td>Using Location Intelligence to Evaluate the CO...</td>\n",
       "      <td>https://pubmed.ncbi.nlm.nih.gov/36626835/</td>\n",
       "      <td>\\n\\n\\n          Background:\\n        \\n      \\...</td>\n",
       "    </tr>\n",
       "    <tr>\n",
       "      <th>3997</th>\n",
       "      <td>Artificial intelligence-aided railroad trespas...</td>\n",
       "      <td>https://pubmed.ncbi.nlm.nih.gov/35176587/</td>\n",
       "      <td>\\n\\n      \\n      The railroad industry plays ...</td>\n",
       "    </tr>\n",
       "    <tr>\n",
       "      <th>3998</th>\n",
       "      <td>Editorial: User Modeling and Recommendations.</td>\n",
       "      <td>https://pubmed.ncbi.nlm.nih.gov/35693294/</td>\n",
       "      <td>NaN</td>\n",
       "    </tr>\n",
       "    <tr>\n",
       "      <th>3999</th>\n",
       "      <td>Pay the PIED Piper: Guidelines to Visualize La...</td>\n",
       "      <td>https://pubmed.ncbi.nlm.nih.gov/31647117/</td>\n",
       "      <td>\\n\\n      \\n      The Piper diagram has increa...</td>\n",
       "    </tr>\n",
       "    <tr>\n",
       "      <th>4000</th>\n",
       "      <td>Dynamic global analysis of transcription revea...</td>\n",
       "      <td>https://pubmed.ncbi.nlm.nih.gov/36732966/</td>\n",
       "      <td>\\n\\n      \\n      Buffering exogenous perturba...</td>\n",
       "    </tr>\n",
       "  </tbody>\n",
       "</table>\n",
       "<p>4000 rows × 3 columns</p>\n",
       "</div>"
      ],
      "text/plain": [
       "                                                  논문 제목  \\\n",
       "1     Big Data in Business: A Bibliometric Analysis ...   \n",
       "2     Big data analysis techniques to address polyph...   \n",
       "3     Agricultural big data and methods and models f...   \n",
       "4     Financial Data Analysis and Application Based ...   \n",
       "5     Big Data Applications in Guangzhou Restaurants...   \n",
       "...                                                 ...   \n",
       "3996  Using Location Intelligence to Evaluate the CO...   \n",
       "3997  Artificial intelligence-aided railroad trespas...   \n",
       "3998      Editorial: User Modeling and Recommendations.   \n",
       "3999  Pay the PIED Piper: Guidelines to Visualize La...   \n",
       "4000  Dynamic global analysis of transcription revea...   \n",
       "\n",
       "                                         사이트 링크  \\\n",
       "1     https://pubmed.ncbi.nlm.nih.gov/33347371/   \n",
       "2     https://pubmed.ncbi.nlm.nih.gov/32883227/   \n",
       "3     https://pubmed.ncbi.nlm.nih.gov/35789661/   \n",
       "4     https://pubmed.ncbi.nlm.nih.gov/35789614/   \n",
       "5     https://pubmed.ncbi.nlm.nih.gov/34582700/   \n",
       "...                                         ...   \n",
       "3996  https://pubmed.ncbi.nlm.nih.gov/36626835/   \n",
       "3997  https://pubmed.ncbi.nlm.nih.gov/35176587/   \n",
       "3998  https://pubmed.ncbi.nlm.nih.gov/35693294/   \n",
       "3999  https://pubmed.ncbi.nlm.nih.gov/31647117/   \n",
       "4000  https://pubmed.ncbi.nlm.nih.gov/36732966/   \n",
       "\n",
       "                                                     요약  \n",
       "1     \\n\\n      \\n      This special issue was open ...  \n",
       "2     \\n\\n\\n          Background:\\n        \\n      \\...  \n",
       "3     \\n\\n\\n          Background:\\n        \\n      \\...  \n",
       "4     \\n\\n      \\n      We provide a brief overview ...  \n",
       "5     \\n\\n      \\n      With the development of mode...  \n",
       "...                                                 ...  \n",
       "3996  \\n\\n\\n          Background:\\n        \\n      \\...  \n",
       "3997  \\n\\n      \\n      The railroad industry plays ...  \n",
       "3998                                                NaN  \n",
       "3999  \\n\\n      \\n      The Piper diagram has increa...  \n",
       "4000  \\n\\n      \\n      Buffering exogenous perturba...  \n",
       "\n",
       "[4000 rows x 3 columns]"
      ]
     },
     "execution_count": 26,
     "metadata": {},
     "output_type": "execute_result"
    }
   ],
   "source": [
    "data2 = pd.read_csv('big_data_thesis.csv', index_col=0)\n",
    "data2.index = range(1,4001)\n",
    "data2"
   ]
  },
  {
   "cell_type": "code",
   "execution_count": 27,
   "id": "4f8e233c-733f-4092-b9ea-a88e324663f6",
   "metadata": {},
   "outputs": [],
   "source": [
    "def make_wordcloud(title_list):\n",
    "    text = ''.join(title_list)\n",
    "    img_mask = np.array(Image.open('cloud.png'))\n",
    "    STOPWORDS.add('big')\n",
    "    STOPWORDS.add('data')\n",
    "    STOPWORDS.add('analysis')\n",
    "    STOPWORDS.add('using')\n",
    "    STOPWORDS.add('based')\n",
    "    STOPWORDS.add('research')\n",
    "    print(type(STOPWORDS))\n",
    "    wordcloud = WordCloud(width=400, height=400,\n",
    "                          background_color='white', max_font_size=200,\n",
    "                          stopwords=STOPWORDS,\n",
    "                          repeat=True,\n",
    "                          colormap='terrain', mask=img_mask).generate(text)\n",
    "\n",
    "    plt.figure(figsize=(10, 8))\n",
    "    plt.axis('off')\n",
    "    plt.imshow(wordcloud)\n",
    "    plt.show()\n"
   ]
  },
  {
   "cell_type": "code",
   "execution_count": 30,
   "id": "2be39260-876f-4eef-aef8-958667b0c566",
   "metadata": {},
   "outputs": [],
   "source": [
    "title_list = data2['논문 제목'].to_list()"
   ]
  },
  {
   "cell_type": "code",
   "execution_count": 33,
   "id": "52d75e29-0c38-4b52-a932-187337775180",
   "metadata": {},
   "outputs": [
    {
     "ename": "NameError",
     "evalue": "name 'Image' is not defined",
     "output_type": "error",
     "traceback": [
      "\u001b[1;31m---------------------------------------------------------------------------\u001b[0m",
      "\u001b[1;31mNameError\u001b[0m                                 Traceback (most recent call last)",
      "Cell \u001b[1;32mIn[33], line 1\u001b[0m\n\u001b[1;32m----> 1\u001b[0m \u001b[43mmake_wordcloud\u001b[49m\u001b[43m(\u001b[49m\u001b[43mtitle_list\u001b[49m\u001b[43m)\u001b[49m\n",
      "Cell \u001b[1;32mIn[27], line 3\u001b[0m, in \u001b[0;36mmake_wordcloud\u001b[1;34m(title_list)\u001b[0m\n\u001b[0;32m      1\u001b[0m \u001b[38;5;28;01mdef\u001b[39;00m \u001b[38;5;21mmake_wordcloud\u001b[39m(title_list):\n\u001b[0;32m      2\u001b[0m     text \u001b[38;5;241m=\u001b[39m \u001b[38;5;124m'\u001b[39m\u001b[38;5;124m'\u001b[39m\u001b[38;5;241m.\u001b[39mjoin(title_list)\n\u001b[1;32m----> 3\u001b[0m     img_mask \u001b[38;5;241m=\u001b[39m np\u001b[38;5;241m.\u001b[39marray(\u001b[43mImage\u001b[49m\u001b[38;5;241m.\u001b[39mopen(\u001b[38;5;124m'\u001b[39m\u001b[38;5;124mcloud.png\u001b[39m\u001b[38;5;124m'\u001b[39m))\n\u001b[0;32m      4\u001b[0m     STOPWORDS\u001b[38;5;241m.\u001b[39madd(\u001b[38;5;124m'\u001b[39m\u001b[38;5;124mbig\u001b[39m\u001b[38;5;124m'\u001b[39m)\n\u001b[0;32m      5\u001b[0m     STOPWORDS\u001b[38;5;241m.\u001b[39madd(\u001b[38;5;124m'\u001b[39m\u001b[38;5;124mdata\u001b[39m\u001b[38;5;124m'\u001b[39m)\n",
      "\u001b[1;31mNameError\u001b[0m: name 'Image' is not defined"
     ]
    }
   ],
   "source": [
    "make_wordcloud(title_list)"
   ]
  },
  {
   "cell_type": "code",
   "execution_count": null,
   "id": "312eeb50-4ef2-499d-b364-f19f16a98182",
   "metadata": {},
   "outputs": [],
   "source": []
  }
 ],
 "metadata": {
  "kernelspec": {
   "display_name": "Python 3 (ipykernel)",
   "language": "python",
   "name": "python3"
  },
  "language_info": {
   "codemirror_mode": {
    "name": "ipython",
    "version": 3
   },
   "file_extension": ".py",
   "mimetype": "text/x-python",
   "name": "python",
   "nbconvert_exporter": "python",
   "pygments_lexer": "ipython3",
   "version": "3.8.18"
  }
 },
 "nbformat": 4,
 "nbformat_minor": 5
}
